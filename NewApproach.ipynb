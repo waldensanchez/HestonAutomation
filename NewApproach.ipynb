{
 "cells": [
  {
   "cell_type": "code",
   "execution_count": 1,
   "metadata": {},
   "outputs": [
    {
     "ename": "TypeError",
     "evalue": "Heston.optimize_params.<locals>.objective_function() missing 5 required positional arguments: 'market_price', 'strike', 'maturity', 'risk_free_rate', and 'option_type'",
     "output_type": "error",
     "traceback": [
      "\u001b[1;31m---------------------------------------------------------------------------\u001b[0m",
      "\u001b[1;31mTypeError\u001b[0m                                 Traceback (most recent call last)",
      "\u001b[1;32mc:\\Users\\Administrator\\Documents\\ITESO\\9no\\Finanzas Cuantitativas\\Heston\\NewApproach.ipynb Cell 1\u001b[0m line \u001b[0;36m9\n\u001b[0;32m      <a href='vscode-notebook-cell:/c%3A/Users/Administrator/Documents/ITESO/9no/Finanzas%20Cuantitativas/Heston/NewApproach.ipynb#W0sZmlsZQ%3D%3D?line=6'>7</a>\u001b[0m heston\u001b[39m.\u001b[39mpreprocess_data()\n\u001b[0;32m      <a href='vscode-notebook-cell:/c%3A/Users/Administrator/Documents/ITESO/9no/Finanzas%20Cuantitativas/Heston/NewApproach.ipynb#W0sZmlsZQ%3D%3D?line=7'>8</a>\u001b[0m heston\u001b[39m.\u001b[39mget_from_market()\n\u001b[1;32m----> <a href='vscode-notebook-cell:/c%3A/Users/Administrator/Documents/ITESO/9no/Finanzas%20Cuantitativas/Heston/NewApproach.ipynb#W0sZmlsZQ%3D%3D?line=8'>9</a>\u001b[0m heston\u001b[39m.\u001b[39;49moptimize_params()\n",
      "File \u001b[1;32mc:\\Users\\Administrator\\Documents\\ITESO\\9no\\Finanzas Cuantitativas\\Heston\\HestonModel.py:91\u001b[0m, in \u001b[0;36mHeston.optimize_params\u001b[1;34m(self)\u001b[0m\n\u001b[0;32m     88\u001b[0m \u001b[39mdef\u001b[39;00m \u001b[39mobjective_function\u001b[39m(params, market_price, strike, maturity, risk_free_rate, option_type):\n\u001b[0;32m     89\u001b[0m     \u001b[39mreturn\u001b[39;00m objective_function_single_derivative(params, market_price, strike, maturity, risk_free_rate, option_type)\n\u001b[1;32m---> 91\u001b[0m result \u001b[39m=\u001b[39m basinhopping(objective_function, initial_params, minimizer_kwargs\u001b[39m=\u001b[39;49mminimizer_kwargs, niter\u001b[39m=\u001b[39;49m\u001b[39m10\u001b[39;49m)\n\u001b[0;32m     93\u001b[0m \u001b[39m# Results\u001b[39;00m\n\u001b[0;32m     94\u001b[0m optimized_params \u001b[39m=\u001b[39m result\u001b[39m.\u001b[39mx\n",
      "File \u001b[1;32mc:\\Users\\Administrator\\AppData\\Local\\Programs\\Python\\Python311\\Lib\\site-packages\\scipy\\optimize\\_basinhopping.py:714\u001b[0m, in \u001b[0;36mbasinhopping\u001b[1;34m(func, x0, niter, T, stepsize, minimizer_kwargs, take_step, accept_test, callback, interval, disp, niter_success, seed, target_accept_rate, stepwise_factor)\u001b[0m\n\u001b[0;32m    711\u001b[0m \u001b[39mif\u001b[39;00m niter_success \u001b[39mis\u001b[39;00m \u001b[39mNone\u001b[39;00m:\n\u001b[0;32m    712\u001b[0m     niter_success \u001b[39m=\u001b[39m niter \u001b[39m+\u001b[39m \u001b[39m2\u001b[39m\n\u001b[1;32m--> 714\u001b[0m bh \u001b[39m=\u001b[39m BasinHoppingRunner(x0, wrapped_minimizer, take_step_wrapped,\n\u001b[0;32m    715\u001b[0m                         accept_tests, disp\u001b[39m=\u001b[39;49mdisp)\n\u001b[0;32m    717\u001b[0m \u001b[39m# The wrapped minimizer is called once during construction of\u001b[39;00m\n\u001b[0;32m    718\u001b[0m \u001b[39m# BasinHoppingRunner, so run the callback\u001b[39;00m\n\u001b[0;32m    719\u001b[0m \u001b[39mif\u001b[39;00m \u001b[39mcallable\u001b[39m(callback):\n",
      "File \u001b[1;32mc:\\Users\\Administrator\\AppData\\Local\\Programs\\Python\\Python311\\Lib\\site-packages\\scipy\\optimize\\_basinhopping.py:78\u001b[0m, in \u001b[0;36mBasinHoppingRunner.__init__\u001b[1;34m(self, x0, minimizer, step_taking, accept_tests, disp)\u001b[0m\n\u001b[0;32m     75\u001b[0m \u001b[39mself\u001b[39m\u001b[39m.\u001b[39mres\u001b[39m.\u001b[39mminimization_failures \u001b[39m=\u001b[39m \u001b[39m0\u001b[39m\n\u001b[0;32m     77\u001b[0m \u001b[39m# do initial minimization\u001b[39;00m\n\u001b[1;32m---> 78\u001b[0m minres \u001b[39m=\u001b[39m minimizer(\u001b[39mself\u001b[39;49m\u001b[39m.\u001b[39;49mx)\n\u001b[0;32m     79\u001b[0m \u001b[39mif\u001b[39;00m \u001b[39mnot\u001b[39;00m minres\u001b[39m.\u001b[39msuccess:\n\u001b[0;32m     80\u001b[0m     \u001b[39mself\u001b[39m\u001b[39m.\u001b[39mres\u001b[39m.\u001b[39mminimization_failures \u001b[39m+\u001b[39m\u001b[39m=\u001b[39m \u001b[39m1\u001b[39m\n",
      "File \u001b[1;32mc:\\Users\\Administrator\\AppData\\Local\\Programs\\Python\\Python311\\Lib\\site-packages\\scipy\\optimize\\_basinhopping.py:303\u001b[0m, in \u001b[0;36mMinimizerWrapper.__call__\u001b[1;34m(self, x0)\u001b[0m\n\u001b[0;32m    301\u001b[0m     \u001b[39mreturn\u001b[39;00m \u001b[39mself\u001b[39m\u001b[39m.\u001b[39mminimizer(x0, \u001b[39m*\u001b[39m\u001b[39m*\u001b[39m\u001b[39mself\u001b[39m\u001b[39m.\u001b[39mkwargs)\n\u001b[0;32m    302\u001b[0m \u001b[39melse\u001b[39;00m:\n\u001b[1;32m--> 303\u001b[0m     \u001b[39mreturn\u001b[39;00m \u001b[39mself\u001b[39;49m\u001b[39m.\u001b[39;49mminimizer(\u001b[39mself\u001b[39;49m\u001b[39m.\u001b[39;49mfunc, x0, \u001b[39m*\u001b[39;49m\u001b[39m*\u001b[39;49m\u001b[39mself\u001b[39;49m\u001b[39m.\u001b[39;49mkwargs)\n",
      "File \u001b[1;32mc:\\Users\\Administrator\\AppData\\Local\\Programs\\Python\\Python311\\Lib\\site-packages\\scipy\\optimize\\_minimize.py:710\u001b[0m, in \u001b[0;36mminimize\u001b[1;34m(fun, x0, args, method, jac, hess, hessp, bounds, constraints, tol, callback, options)\u001b[0m\n\u001b[0;32m    707\u001b[0m     res \u001b[39m=\u001b[39m _minimize_newtoncg(fun, x0, args, jac, hess, hessp, callback,\n\u001b[0;32m    708\u001b[0m                              \u001b[39m*\u001b[39m\u001b[39m*\u001b[39moptions)\n\u001b[0;32m    709\u001b[0m \u001b[39melif\u001b[39;00m meth \u001b[39m==\u001b[39m \u001b[39m'\u001b[39m\u001b[39ml-bfgs-b\u001b[39m\u001b[39m'\u001b[39m:\n\u001b[1;32m--> 710\u001b[0m     res \u001b[39m=\u001b[39m _minimize_lbfgsb(fun, x0, args, jac, bounds,\n\u001b[0;32m    711\u001b[0m                            callback\u001b[39m=\u001b[39;49mcallback, \u001b[39m*\u001b[39;49m\u001b[39m*\u001b[39;49moptions)\n\u001b[0;32m    712\u001b[0m \u001b[39melif\u001b[39;00m meth \u001b[39m==\u001b[39m \u001b[39m'\u001b[39m\u001b[39mtnc\u001b[39m\u001b[39m'\u001b[39m:\n\u001b[0;32m    713\u001b[0m     res \u001b[39m=\u001b[39m _minimize_tnc(fun, x0, args, jac, bounds, callback\u001b[39m=\u001b[39mcallback,\n\u001b[0;32m    714\u001b[0m                         \u001b[39m*\u001b[39m\u001b[39m*\u001b[39moptions)\n",
      "File \u001b[1;32mc:\\Users\\Administrator\\AppData\\Local\\Programs\\Python\\Python311\\Lib\\site-packages\\scipy\\optimize\\_lbfgsb_py.py:307\u001b[0m, in \u001b[0;36m_minimize_lbfgsb\u001b[1;34m(fun, x0, args, jac, bounds, disp, maxcor, ftol, gtol, eps, maxfun, maxiter, iprint, callback, maxls, finite_diff_rel_step, **unknown_options)\u001b[0m\n\u001b[0;32m    304\u001b[0m     \u001b[39melse\u001b[39;00m:\n\u001b[0;32m    305\u001b[0m         iprint \u001b[39m=\u001b[39m disp\n\u001b[1;32m--> 307\u001b[0m sf \u001b[39m=\u001b[39m _prepare_scalar_function(fun, x0, jac\u001b[39m=\u001b[39;49mjac, args\u001b[39m=\u001b[39;49margs, epsilon\u001b[39m=\u001b[39;49meps,\n\u001b[0;32m    308\u001b[0m                               bounds\u001b[39m=\u001b[39;49mnew_bounds,\n\u001b[0;32m    309\u001b[0m                               finite_diff_rel_step\u001b[39m=\u001b[39;49mfinite_diff_rel_step)\n\u001b[0;32m    311\u001b[0m func_and_grad \u001b[39m=\u001b[39m sf\u001b[39m.\u001b[39mfun_and_grad\n\u001b[0;32m    313\u001b[0m fortran_int \u001b[39m=\u001b[39m _lbfgsb\u001b[39m.\u001b[39mtypes\u001b[39m.\u001b[39mintvar\u001b[39m.\u001b[39mdtype\n",
      "File \u001b[1;32mc:\\Users\\Administrator\\AppData\\Local\\Programs\\Python\\Python311\\Lib\\site-packages\\scipy\\optimize\\_optimize.py:383\u001b[0m, in \u001b[0;36m_prepare_scalar_function\u001b[1;34m(fun, x0, jac, args, bounds, epsilon, finite_diff_rel_step, hess)\u001b[0m\n\u001b[0;32m    379\u001b[0m     bounds \u001b[39m=\u001b[39m (\u001b[39m-\u001b[39mnp\u001b[39m.\u001b[39minf, np\u001b[39m.\u001b[39minf)\n\u001b[0;32m    381\u001b[0m \u001b[39m# ScalarFunction caches. Reuse of fun(x) during grad\u001b[39;00m\n\u001b[0;32m    382\u001b[0m \u001b[39m# calculation reduces overall function evaluations.\u001b[39;00m\n\u001b[1;32m--> 383\u001b[0m sf \u001b[39m=\u001b[39m ScalarFunction(fun, x0, args, grad, hess,\n\u001b[0;32m    384\u001b[0m                     finite_diff_rel_step, bounds, epsilon\u001b[39m=\u001b[39;49mepsilon)\n\u001b[0;32m    386\u001b[0m \u001b[39mreturn\u001b[39;00m sf\n",
      "File \u001b[1;32mc:\\Users\\Administrator\\AppData\\Local\\Programs\\Python\\Python311\\Lib\\site-packages\\scipy\\optimize\\_differentiable_functions.py:158\u001b[0m, in \u001b[0;36mScalarFunction.__init__\u001b[1;34m(self, fun, x0, args, grad, hess, finite_diff_rel_step, finite_diff_bounds, epsilon)\u001b[0m\n\u001b[0;32m    155\u001b[0m     \u001b[39mself\u001b[39m\u001b[39m.\u001b[39mf \u001b[39m=\u001b[39m fun_wrapped(\u001b[39mself\u001b[39m\u001b[39m.\u001b[39mx)\n\u001b[0;32m    157\u001b[0m \u001b[39mself\u001b[39m\u001b[39m.\u001b[39m_update_fun_impl \u001b[39m=\u001b[39m update_fun\n\u001b[1;32m--> 158\u001b[0m \u001b[39mself\u001b[39;49m\u001b[39m.\u001b[39;49m_update_fun()\n\u001b[0;32m    160\u001b[0m \u001b[39m# Gradient evaluation\u001b[39;00m\n\u001b[0;32m    161\u001b[0m \u001b[39mif\u001b[39;00m \u001b[39mcallable\u001b[39m(grad):\n",
      "File \u001b[1;32mc:\\Users\\Administrator\\AppData\\Local\\Programs\\Python\\Python311\\Lib\\site-packages\\scipy\\optimize\\_differentiable_functions.py:251\u001b[0m, in \u001b[0;36mScalarFunction._update_fun\u001b[1;34m(self)\u001b[0m\n\u001b[0;32m    249\u001b[0m \u001b[39mdef\u001b[39;00m \u001b[39m_update_fun\u001b[39m(\u001b[39mself\u001b[39m):\n\u001b[0;32m    250\u001b[0m     \u001b[39mif\u001b[39;00m \u001b[39mnot\u001b[39;00m \u001b[39mself\u001b[39m\u001b[39m.\u001b[39mf_updated:\n\u001b[1;32m--> 251\u001b[0m         \u001b[39mself\u001b[39;49m\u001b[39m.\u001b[39;49m_update_fun_impl()\n\u001b[0;32m    252\u001b[0m         \u001b[39mself\u001b[39m\u001b[39m.\u001b[39mf_updated \u001b[39m=\u001b[39m \u001b[39mTrue\u001b[39;00m\n",
      "File \u001b[1;32mc:\\Users\\Administrator\\AppData\\Local\\Programs\\Python\\Python311\\Lib\\site-packages\\scipy\\optimize\\_differentiable_functions.py:155\u001b[0m, in \u001b[0;36mScalarFunction.__init__.<locals>.update_fun\u001b[1;34m()\u001b[0m\n\u001b[0;32m    154\u001b[0m \u001b[39mdef\u001b[39;00m \u001b[39mupdate_fun\u001b[39m():\n\u001b[1;32m--> 155\u001b[0m     \u001b[39mself\u001b[39m\u001b[39m.\u001b[39mf \u001b[39m=\u001b[39m fun_wrapped(\u001b[39mself\u001b[39;49m\u001b[39m.\u001b[39;49mx)\n",
      "File \u001b[1;32mc:\\Users\\Administrator\\AppData\\Local\\Programs\\Python\\Python311\\Lib\\site-packages\\scipy\\optimize\\_differentiable_functions.py:137\u001b[0m, in \u001b[0;36mScalarFunction.__init__.<locals>.fun_wrapped\u001b[1;34m(x)\u001b[0m\n\u001b[0;32m    133\u001b[0m \u001b[39mself\u001b[39m\u001b[39m.\u001b[39mnfev \u001b[39m+\u001b[39m\u001b[39m=\u001b[39m \u001b[39m1\u001b[39m\n\u001b[0;32m    134\u001b[0m \u001b[39m# Send a copy because the user may overwrite it.\u001b[39;00m\n\u001b[0;32m    135\u001b[0m \u001b[39m# Overwriting results in undefined behaviour because\u001b[39;00m\n\u001b[0;32m    136\u001b[0m \u001b[39m# fun(self.x) will change self.x, with the two no longer linked.\u001b[39;00m\n\u001b[1;32m--> 137\u001b[0m fx \u001b[39m=\u001b[39m fun(np\u001b[39m.\u001b[39;49mcopy(x), \u001b[39m*\u001b[39;49margs)\n\u001b[0;32m    138\u001b[0m \u001b[39m# Make sure the function returns a true scalar\u001b[39;00m\n\u001b[0;32m    139\u001b[0m \u001b[39mif\u001b[39;00m \u001b[39mnot\u001b[39;00m np\u001b[39m.\u001b[39misscalar(fx):\n",
      "\u001b[1;31mTypeError\u001b[0m: Heston.optimize_params.<locals>.objective_function() missing 5 required positional arguments: 'market_price', 'strike', 'maturity', 'risk_free_rate', and 'option_type'"
     ]
    }
   ],
   "source": [
    "import pandas as pd\n",
    "\n",
    "from HestonModel import Heston, HestonPriceFunction\n",
    "\n",
    "heston = Heston()\n",
    "heston.load_data('Data/20230912_PLIQ_IP.csv')\n",
    "heston.preprocess_data()\n",
    "heston.get_from_market()\n",
    "heston.optimize_params()\n"
   ]
  },
  {
   "cell_type": "code",
   "execution_count": 4,
   "metadata": {},
   "outputs": [
    {
     "data": {
      "text/plain": [
       "5390.266738228924"
      ]
     },
     "execution_count": 4,
     "metadata": {},
     "output_type": "execute_result"
    }
   ],
   "source": [
    "heston.clean.Pliq.std()"
   ]
  },
  {
   "cell_type": "code",
   "execution_count": 2,
   "metadata": {},
   "outputs": [
    {
     "data": {
      "text/plain": [
       "7.027599518261383"
      ]
     },
     "execution_count": 2,
     "metadata": {},
     "output_type": "execute_result"
    }
   ],
   "source": [
    "strike_price = 100\n",
    "spot_price = 105\n",
    "yearly_historical_volatility = 0.1\n",
    "riskfree_rate = 0.0\n",
    "kappa = 2\n",
    "epsilon = 0.1   \n",
    "rho = 0.0   \n",
    "\n",
    "HestonPriceFunction(strike_price=strike_price, spot_price=spot_price, yearly_historical_volatility = yearly_historical_volatility,\n",
    "                risk_free_rate=riskfree_rate, kappa = kappa, theta=yearly_historical_volatility**2, epsilon = epsilon, rho = rho, current = \"2020/8/4\", maturity = \"2021/8/3\",\n",
    "                call_option = True)"
   ]
  },
  {
   "cell_type": "code",
   "execution_count": 6,
   "metadata": {},
   "outputs": [],
   "source": [
    "import pandas as pd\n",
    "import QuantLib as ql\n",
    "\n",
    "def HestonPriceFunction(strike_price: float, spot_price: float, yearly_historical_volatility: float, \n",
    "                        risk_free_rate: float, kappa: float, epsilon: float, rho: float,\n",
    "                        theta: float, current: str, time_to_maturity: float, call_option: bool, \n",
    "                        dividend_rate: float = 0.0, step: float = 0.001, runs: int = 1000):\n",
    "\n",
    "    # Parameters\n",
    "    variance = yearly_historical_volatility ** 2  # Initial variance is square of volatility\n",
    "    option_type = ql.Option.Call if call_option else ql.Option.Put\n",
    "    payoff = ql.PlainVanillaPayoff(option_type, strike_price)\n",
    "\n",
    "    # Current Date\n",
    "    current_date = pd.to_datetime(current)\n",
    "    \n",
    "    # Calculate Maturity Date based on time to maturity\n",
    "    maturity_date = current_date + pd.Timedelta(days=365 * time_to_maturity)\n",
    "    \n",
    "    # QuantLib uses Date objects\n",
    "    valuation_date = ql.Date(current_date.day, current_date.month, current_date.year)\n",
    "    maturity_ql_date = ql.Date(maturity_date.day, maturity_date.month, maturity_date.year)\n",
    "    ql.Settings.instance().evaluationDate = valuation_date\n",
    "\n",
    "    # Exercise function takes maturity date of the option as input\n",
    "    exercise = ql.EuropeanExercise(maturity_ql_date)\n",
    "    option = ql.VanillaOption(payoff, exercise)\n",
    "\n",
    "    # Spot price as a Quote object\n",
    "    initial_value = ql.QuoteHandle(ql.SimpleQuote(spot_price))\n",
    "\n",
    "    # Setting up flat risk-free and dividend yield curves\n",
    "    day_count = ql.Actual365Fixed()\n",
    "    risk_free_curve = ql.YieldTermStructureHandle(ql.FlatForward(valuation_date, risk_free_rate, day_count))\n",
    "    dividend_yield = ql.YieldTermStructureHandle(ql.FlatForward(valuation_date, dividend_rate, day_count))\n",
    "\n",
    "    # Setting up the Heston process and model\n",
    "    heston_process = ql.HestonProcess(risk_free_curve, dividend_yield, initial_value, variance, kappa, theta, epsilon, rho)\n",
    "    heston_model = ql.HestonModel(heston_process)\n",
    "    \n",
    "    # Engine for pricing\n",
    "    engine = ql.AnalyticHestonEngine(heston_model, step, runs)\n",
    "    option.setPricingEngine(engine)\n",
    "\n",
    "    # Calculating the option price\n",
    "    price = option.NPV()\n",
    "    return price\n"
   ]
  },
  {
   "cell_type": "code",
   "execution_count": null,
   "metadata": {},
   "outputs": [],
   "source": [
    "import numpy as np\n",
    "from scipy.optimize import basinhopping\n",
    "import pandas as pd\n",
    "import QuantLib as ql\n",
    "\n",
    "\n",
    "\n",
    "def objective_function(params):\n",
    "    v0, kappa, theta, epsilon, rho = params\n",
    "    errors = []\n",
    "\n",
    "    for market_price, strike, maturity in zip(market_prices, strikes, maturities):\n",
    "        model_price = HestonPriceFunction(strike, spot_price, np.sqrt(v0), risk_free_rate, kappa,\n",
    "                                          epsilon, rho, theta, current_date, maturity, True)\n",
    "        error = (model_price - market_price) ** 2\n",
    "        errors.append(error)\n",
    "\n",
    "    return np.sum(errors)\n",
    "\n",
    "# Initial guess for the parameters based on historical volatility\n",
    "yearly_historical_volatility = 0.2  # Placeholder for historical volatility\n",
    "initial_params = [yearly_historical_volatility ** 2, 2.0, 0.04, 0.1, -0.7]  # Initial parameter guess\n",
    "\n",
    "# Define bounds for the parameters\n",
    "bounds = [(0.001, 1), (0.1, 10), (0.001, 1), (0.1, 1), (-1, 1)]\n",
    "\n",
    "# The basinhopping algorithm\n",
    "minimizer_kwargs = {\"method\": \"L-BFGS-B\", \"bounds\": bounds}\n",
    "result = basinhopping(objective_function, initial_params, minimizer_kwargs=minimizer_kwargs, niter=10)\n",
    "\n",
    "# Results\n",
    "optimized_params = result.x\n",
    "minimum_error = result.fun\n",
    "\n",
    "print(\"Optimized parameters:\", optimized_params)\n",
    "print(\"Minimum error:\", minimum_error)\n"
   ]
  }
 ],
 "metadata": {
  "kernelspec": {
   "display_name": "base",
   "language": "python",
   "name": "python3"
  },
  "language_info": {
   "codemirror_mode": {
    "name": "ipython",
    "version": 3
   },
   "file_extension": ".py",
   "mimetype": "text/x-python",
   "name": "python",
   "nbconvert_exporter": "python",
   "pygments_lexer": "ipython3",
   "version": "3.11.2"
  }
 },
 "nbformat": 4,
 "nbformat_minor": 2
}
