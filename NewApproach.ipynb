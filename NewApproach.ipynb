{
 "cells": [
  {
   "cell_type": "code",
   "execution_count": 1,
   "metadata": {},
   "outputs": [],
   "source": [
    "import pandas as pd\n",
    "from scipy.optimize import basinhopping\n",
    "from HestonModel import Heston, HestonPriceFunction\n",
    "\n",
    "heston = Heston()\n",
    "heston.load_data('Data/20230912_PLIQ_IP.csv')\n",
    "heston.preprocess_data()\n",
    "heston.get_from_user(risk_free_rate=.11)\n",
    "heston.get_from_market()\n"
   ]
  },
  {
   "cell_type": "code",
   "execution_count": 2,
   "metadata": {},
   "outputs": [
    {
     "data": {
      "text/plain": [
       "7.027599518261383"
      ]
     },
     "execution_count": 2,
     "metadata": {},
     "output_type": "execute_result"
    }
   ],
   "source": [
    "strike_price = 100\n",
    "spot_price = 105\n",
    "yearly_historical_volatility = 0.1\n",
    "riskfree_rate = 0.0\n",
    "kappa = 2\n",
    "epsilon = 0.1   \n",
    "rho = 0.0   \n",
    "\n",
    "HestonPriceFunction(strike_price=strike_price, spot_price=spot_price, yearly_historical_volatility = yearly_historical_volatility,\n",
    "                risk_free_rate=riskfree_rate, kappa = kappa, theta=yearly_historical_volatility**2, epsilon = epsilon, rho = rho, current = \"2020/8/4\", maturity = \"2021/8/3\",\n",
    "                call_option = True)"
   ]
  }
 ],
 "metadata": {
  "kernelspec": {
   "display_name": "base",
   "language": "python",
   "name": "python3"
  },
  "language_info": {
   "codemirror_mode": {
    "name": "ipython",
    "version": 3
   },
   "file_extension": ".py",
   "mimetype": "text/x-python",
   "name": "python",
   "nbconvert_exporter": "python",
   "pygments_lexer": "ipython3",
   "version": "3.11.2"
  }
 },
 "nbformat": 4,
 "nbformat_minor": 2
}
