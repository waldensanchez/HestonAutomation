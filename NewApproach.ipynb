{
 "cells": [
  {
   "cell_type": "code",
   "execution_count": 1,
   "metadata": {},
   "outputs": [],
   "source": [
    "import pandas as pd\n",
    "\n",
    "from HestonModel import Heston, HestonPriceFunction\n",
    "\n",
    "heston = Heston()\n",
    "heston.load_data('Data/20230912_PLIQ_IP.csv')\n",
    "heston.preprocess_data()\n",
    "heston.get_from_user(risk_free_rate=.11)\n",
    "heston.get_from_market()\n"
   ]
  },
  {
   "cell_type": "code",
   "execution_count": 2,
   "metadata": {},
   "outputs": [
    {
     "data": {
      "text/plain": [
       "7.027599518261383"
      ]
     },
     "execution_count": 2,
     "metadata": {},
     "output_type": "execute_result"
    }
   ],
   "source": [
    "strike_price = 100\n",
    "spot_price = 105\n",
    "yearly_historical_volatility = 0.1\n",
    "riskfree_rate = 0.0\n",
    "kappa = 2\n",
    "epsilon = 0.1   \n",
    "rho = 0.0   \n",
    "\n",
    "HestonPriceFunction(strike_price=strike_price, spot_price=spot_price, yearly_historical_volatility = yearly_historical_volatility,\n",
    "                risk_free_rate=riskfree_rate, kappa = kappa, theta=yearly_historical_volatility**2, epsilon = epsilon, rho = rho, current = \"2020/8/4\", maturity = \"2021/8/3\",\n",
    "                call_option = True)"
   ]
  },
  {
   "cell_type": "code",
   "execution_count": 7,
   "metadata": {},
   "outputs": [
    {
     "data": {
      "text/plain": [
       "0      False\n",
       "1      False\n",
       "2      False\n",
       "3      False\n",
       "4      False\n",
       "       ...  \n",
       "483     True\n",
       "484     True\n",
       "485     True\n",
       "486     True\n",
       "487     True\n",
       "Name: Call o Put, Length: 488, dtype: bool"
      ]
     },
     "execution_count": 7,
     "metadata": {},
     "output_type": "execute_result"
    }
   ],
   "source": [
    "heston.clean\n"
   ]
  },
  {
   "cell_type": "code",
   "execution_count": 6,
   "metadata": {},
   "outputs": [],
   "source": [
    "import pandas as pd\n",
    "import QuantLib as ql\n",
    "\n",
    "def HestonPriceFunction(strike_price: float, spot_price: float, yearly_historical_volatility: float, \n",
    "                        risk_free_rate: float, kappa: float, epsilon: float, rho: float,\n",
    "                        theta: float, current: str, time_to_maturity: float, call_option: bool, \n",
    "                        dividend_rate: float = 0.0, step: float = 0.001, runs: int = 1000):\n",
    "\n",
    "    # Parameters\n",
    "    variance = yearly_historical_volatility ** 2  # Initial variance is square of volatility\n",
    "    option_type = ql.Option.Call if call_option else ql.Option.Put\n",
    "    payoff = ql.PlainVanillaPayoff(option_type, strike_price)\n",
    "\n",
    "    # Current Date\n",
    "    current_date = pd.to_datetime(current)\n",
    "    \n",
    "    # Calculate Maturity Date based on time to maturity\n",
    "    maturity_date = current_date + pd.Timedelta(days=365 * time_to_maturity)\n",
    "    \n",
    "    # QuantLib uses Date objects\n",
    "    valuation_date = ql.Date(current_date.day, current_date.month, current_date.year)\n",
    "    maturity_ql_date = ql.Date(maturity_date.day, maturity_date.month, maturity_date.year)\n",
    "    ql.Settings.instance().evaluationDate = valuation_date\n",
    "\n",
    "    # Exercise function takes maturity date of the option as input\n",
    "    exercise = ql.EuropeanExercise(maturity_ql_date)\n",
    "    option = ql.VanillaOption(payoff, exercise)\n",
    "\n",
    "    # Spot price as a Quote object\n",
    "    initial_value = ql.QuoteHandle(ql.SimpleQuote(spot_price))\n",
    "\n",
    "    # Setting up flat risk-free and dividend yield curves\n",
    "    day_count = ql.Actual365Fixed()\n",
    "    risk_free_curve = ql.YieldTermStructureHandle(ql.FlatForward(valuation_date, risk_free_rate, day_count))\n",
    "    dividend_yield = ql.YieldTermStructureHandle(ql.FlatForward(valuation_date, dividend_rate, day_count))\n",
    "\n",
    "    # Setting up the Heston process and model\n",
    "    heston_process = ql.HestonProcess(risk_free_curve, dividend_yield, initial_value, variance, kappa, theta, epsilon, rho)\n",
    "    heston_model = ql.HestonModel(heston_process)\n",
    "    \n",
    "    # Engine for pricing\n",
    "    engine = ql.AnalyticHestonEngine(heston_model, step, runs)\n",
    "    option.setPricingEngine(engine)\n",
    "\n",
    "    # Calculating the option price\n",
    "    price = option.NPV()\n",
    "    return price\n"
   ]
  },
  {
   "cell_type": "code",
   "execution_count": null,
   "metadata": {},
   "outputs": [],
   "source": [
    "import numpy as np\n",
    "from scipy.optimize import basinhopping\n",
    "import pandas as pd\n",
    "import QuantLib as ql\n",
    "\n",
    "\n",
    "\n",
    "def objective_function(params):\n",
    "    v0, kappa, theta, epsilon, rho = params\n",
    "    errors = []\n",
    "\n",
    "    for market_price, strike, maturity in zip(market_prices, strikes, maturities):\n",
    "        model_price = HestonPriceFunction(strike, spot_price, np.sqrt(v0), risk_free_rate, kappa,\n",
    "                                          epsilon, rho, theta, current_date, maturity, True)\n",
    "        error = (model_price - market_price) ** 2\n",
    "        errors.append(error)\n",
    "\n",
    "    return np.sum(errors)\n",
    "\n",
    "# Initial guess for the parameters based on historical volatility\n",
    "yearly_historical_volatility = 0.2  # Placeholder for historical volatility\n",
    "initial_params = [yearly_historical_volatility ** 2, 2.0, 0.04, 0.1, -0.7]  # Initial parameter guess\n",
    "\n",
    "# Define bounds for the parameters\n",
    "bounds = [(0.001, 1), (0.1, 10), (0.001, 1), (0.1, 1), (-1, 1)]\n",
    "\n",
    "# The basinhopping algorithm\n",
    "minimizer_kwargs = {\"method\": \"L-BFGS-B\", \"bounds\": bounds}\n",
    "result = basinhopping(objective_function, initial_params, minimizer_kwargs=minimizer_kwargs, niter=10)\n",
    "\n",
    "# Results\n",
    "optimized_params = result.x\n",
    "minimum_error = result.fun\n",
    "\n",
    "print(\"Optimized parameters:\", optimized_params)\n",
    "print(\"Minimum error:\", minimum_error)\n"
   ]
  }
 ],
 "metadata": {
  "kernelspec": {
   "display_name": "base",
   "language": "python",
   "name": "python3"
  },
  "language_info": {
   "codemirror_mode": {
    "name": "ipython",
    "version": 3
   },
   "file_extension": ".py",
   "mimetype": "text/x-python",
   "name": "python",
   "nbconvert_exporter": "python",
   "pygments_lexer": "ipython3",
   "version": "3.11.2"
  }
 },
 "nbformat": 4,
 "nbformat_minor": 2
}
