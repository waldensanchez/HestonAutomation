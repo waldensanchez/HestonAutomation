{
 "cells": [
  {
   "cell_type": "code",
   "execution_count": 1,
   "id": "9a2b5c67",
   "metadata": {},
   "outputs": [],
   "source": [
    "import pandas as pd\n",
    "from scipy.optimize import minimize\n",
    "import numpy as np\n",
    "from scipy.stats import norm"
   ]
  },
  {
   "cell_type": "code",
   "execution_count": 2,
   "id": "93e8fd19",
   "metadata": {},
   "outputs": [],
   "source": [
    "# Define the Black-Scholes function\n",
    "def black_scholes_call_price(S, K, T, r, sigma):\n",
    "    \"\"\"\n",
    "    Compute the Black-Scholes price for a call option.\n",
    "    \n",
    "    Parameters:\n",
    "    S - Current stock price\n",
    "    K - Option strike price\n",
    "    T - Time to expiration (in years)\n",
    "    r - Risk-free interest rate\n",
    "    sigma - Volatility\n",
    "    \n",
    "    Returns:\n",
    "    Price of the call option under the Black-Scholes model.\n",
    "    \"\"\"\n",
    "    \n",
    "    d1 = (np.log(S / K) + (r + 0.5 * sigma ** 2) * T) / (sigma * np.sqrt(T))\n",
    "    d2 = d1 - sigma * np.sqrt(T)\n",
    "    \n",
    "    call_price = S * norm.cdf(d1) - K * np.exp(-r * T) * norm.cdf(d2)\n",
    "    \n",
    "    return call_price\n",
    "\n"
   ]
  },
  {
   "cell_type": "code",
   "execution_count": 3,
   "id": "e8a7149c",
   "metadata": {},
   "outputs": [],
   "source": [
    "def simplified_heston_price(S, K, T, r, kappa, theta, sigma, rho, v0):\n",
    "    \"\"\"\n",
    "    Simplified Heston model pricing function.\n",
    "    This is NOT the actual Heston formula but a representation for demonstration purposes.\n",
    "    \n",
    "    Parameters:\n",
    "    S - Current stock price\n",
    "    K - Option strike price\n",
    "    T - Time to expiration (in years)\n",
    "    r - Risk-free interest rate\n",
    "    kappa, theta, sigma, rho, v0 - Heston model parameters\n",
    "    \n",
    "    Returns:\n",
    "    Approximated price of the call option under the Heston model.\n",
    "    \"\"\"\n",
    "    \n",
    "    # Approximate the Heston volatility using the model parameters\n",
    "    heston_vol = np.sqrt(v0 + kappa * (theta - v0) * T + sigma * np.sqrt(T))\n",
    "    \n",
    "    # Use the Black-Scholes formula with the approximated Heston volatility\n",
    "    heston_price = black_scholes_call_price(S, K, T, r, heston_vol)\n",
    "    \n",
    "    return heston_price"
   ]
  },
  {
   "cell_type": "code",
   "execution_count": 4,
   "id": "73c8d1db",
   "metadata": {},
   "outputs": [
    {
     "data": {
      "text/plain": [
       "array([18384.67725491, 17985.22266392, 17587.09672649, 17190.51453913,\n",
       "       16795.28903363, 16401.45106169, 16009.01464941, 15617.97498076,\n",
       "       15228.37974602, 14840.23852851])"
      ]
     },
     "execution_count": 4,
     "metadata": {},
     "output_type": "execute_result"
    }
   ],
   "source": [
    "# Load the CSV file again\n",
    "csv_data = pd.read_csv('20230912_PLIQ_IP.csv')\n",
    "\n",
    "# Extract required columns from the CSV file for Black-Scholes calculation\n",
    "S = csv_data['Futuro'].values  # Current stock price (Futuro column)\n",
    "K = csv_data['Serie'].values   # Option strike price (Serie column)\n",
    "T = csv_data['Plazo a Vencimiento'].values  # Time to expiration (Plazo a Vencimiento column)\n",
    "r = csv_data['Tasa de Interes'].values  # Risk-free interest rate (Tasa de Interes column)\n",
    "sigma = csv_data['Volatilidad'].values  # Implied volatility (Volatilidad column)\n",
    "\n",
    "# Calculate approximate call prices using the provided implied volatilities\n",
    "approximated_call_prices = black_scholes_call_price(S, K, T, r, sigma)\n",
    "\n",
    "approximated_call_prices[:10]  # Display the first 10 approximated call prices\n"
   ]
  },
  {
   "cell_type": "code",
   "execution_count": 5,
   "id": "bc46191b",
   "metadata": {},
   "outputs": [
    {
     "data": {
      "text/plain": [
       "17701.255821006183"
      ]
     },
     "execution_count": 5,
     "metadata": {},
     "output_type": "execute_result"
    }
   ],
   "source": [
    "# Test the simplified Heston pricing function\n",
    "sample_price = simplified_heston_price(S[0], K[0], T[0], r[0], 1.5, 0.04, 0.3, -0.7, 0.04)\n",
    "sample_price"
   ]
  },
  {
   "cell_type": "code",
   "execution_count": 6,
   "id": "f367b714",
   "metadata": {},
   "outputs": [
    {
     "name": "stderr",
     "output_type": "stream",
     "text": [
      "C:\\Users\\Lenovo S340\\AppData\\Local\\Temp\\ipykernel_17516\\1671702491.py:17: RuntimeWarning: divide by zero encountered in divide\n",
      "  d1 = (np.log(S / K) + (r + 0.5 * sigma ** 2) * T) / (sigma * np.sqrt(T))\n",
      "C:\\Users\\Lenovo S340\\AppData\\Local\\Temp\\ipykernel_17516\\3551741339.py:18: RuntimeWarning: invalid value encountered in sqrt\n",
      "  heston_vol = np.sqrt(v0 + kappa * (theta - v0) * T + sigma * np.sqrt(T))\n"
     ]
    },
    {
     "data": {
      "text/plain": [
       "array([ 1.5 ,  0.04,  0.3 , -0.7 ,  0.04])"
      ]
     },
     "execution_count": 6,
     "metadata": {},
     "output_type": "execute_result"
    }
   ],
   "source": [
    "def objective_function(params, *args):\n",
    "    \"\"\"\n",
    "    Objective function for Heston model calibration.\n",
    "    \n",
    "    Parameters:\n",
    "    params - Heston model parameters (kappa, theta, sigma, rho, v0)\n",
    "    *args - Other arguments (S, K, T, r, market_prices)\n",
    "    \n",
    "    Returns:\n",
    "    Sum of squared differences between market prices and Heston model prices.\n",
    "    \"\"\"\n",
    "    \n",
    "    kappa, theta, sigma, rho, v0 = params\n",
    "    S, K, T, r, market_prices = args\n",
    "    \n",
    "    heston_prices = simplified_heston_price(S, K, T, r, kappa, theta, sigma, rho, v0)\n",
    "    return np.sum((heston_prices - market_prices) ** 2)\n",
    "\n",
    "# Initial guess for Heston parameters\n",
    "initial_params = [1.5, 0.04, 0.3, -0.7, 0.04]\n",
    "\n",
    "# Calibrate using the optimization algorithm\n",
    "result = minimize(objective_function, initial_params, args=(S, K, T, r, approximated_call_prices), \n",
    "                 bounds=((0, 5), (0, 1), (0, 5), (-1, 1), (0, 1)))\n",
    "\n",
    "# Extract calibrated parameters\n",
    "calibrated_params = result.x\n",
    "calibrated_params"
   ]
  },
  {
   "cell_type": "code",
   "execution_count": 7,
   "id": "d1e453e2",
   "metadata": {},
   "outputs": [
    {
     "data": {
      "text/plain": [
       "array([0.5050328, 0.5050328, 0.5050328, 0.5050328, 0.5050328, 0.5050328,\n",
       "       0.5050328, 0.5050328, 0.5050328, 0.5050328])"
      ]
     },
     "execution_count": 7,
     "metadata": {},
     "output_type": "execute_result"
    }
   ],
   "source": [
    "def implied_volatility_bs(S, K, T, r, market_price):\n",
    "    \"\"\"\n",
    "    Calculate implied volatility using the Black-Scholes formula via a numerical method.\n",
    "    \n",
    "    Parameters:\n",
    "    S - Current stock price\n",
    "    K - Option strike price\n",
    "    T - Time to expiration (in years)\n",
    "    r - Risk-free interest rate\n",
    "    market_price - Observed market price of the option\n",
    "    \n",
    "    Returns:\n",
    "    Implied volatility\n",
    "    \"\"\"\n",
    "    # Define an objective function to minimize\n",
    "    def loss_function(sigma):\n",
    "        return (black_scholes_call_price(S, K, T, r, sigma) - market_price) ** 2\n",
    "\n",
    "    # Use a numerical optimizer to find the implied volatility\n",
    "    result = minimize(loss_function, 0.2, bounds=[(0.001, 5)])\n",
    "    return result.x[0]\n",
    "\n",
    "# Generate smoothed option prices using the calibrated Heston parameters\n",
    "smoothed_prices = simplified_heston_price(S, K, T, r, *calibrated_params)\n",
    "\n",
    "# Convert smoothed prices to implied volatilities\n",
    "smoothed_iv = np.array([implied_volatility_bs(S[i], K[i], T[i], r[i], smoothed_prices[i]) for i in range(len(S))])\n",
    "\n",
    "smoothed_iv[:10]  # Display the first 10 smoothed implied volatilities\n"
   ]
  },
  {
   "cell_type": "code",
   "execution_count": 8,
   "id": "c43d9044",
   "metadata": {},
   "outputs": [
    {
     "data": {
      "text/plain": [
       "'C:\\\\Users\\\\Lenovo S340\\\\Desktop\\\\CIFI Hesston\\\\Pruebas\\\\20230912_PLIQ_H_IP.txt'"
      ]
     },
     "execution_count": 8,
     "metadata": {},
     "output_type": "execute_result"
    }
   ],
   "source": [
    "# Prepare the data for the TXT file without the 'Tipo de Opcion' column\n",
    "txt_data_smoothed = []\n",
    "\n",
    "for idx, row in csv_data.iterrows():\n",
    "    line = \"{},{},{},{},{},{},{},{}\".format(\n",
    "        row['Fecha'], \n",
    "        row['Emisora'],\n",
    "        row['Serie'],\n",
    "        int(row['Pliq']),  # Convert Pliq to integer as in the provided TXT file\n",
    "        round(smoothed_iv[idx], 4),  # Smoothed implied volatility\n",
    "        row['Futuro'],\n",
    "        row['Plazo a Vencimiento'],\n",
    "        row['Tasa de Interes']\n",
    "    )\n",
    "    txt_data_smoothed.append(line)\n",
    "\n",
    "# Write the data to a TXT file\n",
    "output_path = r\"C:\\Users\\Lenovo S340\\Desktop\\CIFI Hesston\\Pruebas\\20230912_PLIQ_H_IP.txt\"\n",
    "with open(output_path, 'w') as f:\n",
    "    for line in txt_data_smoothed:\n",
    "        f.write(\"%s\\n\" % line)\n",
    "\n",
    "output_path"
   ]
  },
  {
   "cell_type": "code",
   "execution_count": null,
   "id": "fc8a520f",
   "metadata": {},
   "outputs": [],
   "source": []
  }
 ],
 "metadata": {
  "kernelspec": {
   "display_name": "Python 3 (ipykernel)",
   "language": "python",
   "name": "python3"
  },
  "language_info": {
   "codemirror_mode": {
    "name": "ipython",
    "version": 3
   },
   "file_extension": ".py",
   "mimetype": "text/x-python",
   "name": "python",
   "nbconvert_exporter": "python",
   "pygments_lexer": "ipython3",
   "version": "3.11.4"
  }
 },
 "nbformat": 4,
 "nbformat_minor": 5
}
