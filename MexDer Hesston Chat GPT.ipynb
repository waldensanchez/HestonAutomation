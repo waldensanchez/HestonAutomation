{
 "cells": [
  {
   "cell_type": "code",
   "execution_count": 2,
   "id": "9a2b5c67",
   "metadata": {},
   "outputs": [],
   "source": [
    "import pandas as pd\n",
    "# Assume Functions.py is correctly placed and contains the necessary functions.\n",
    "from Functions import black_scholes_call_price, implied_volatility_bs, format_output_line\n",
    "\n",
    "# Load the CSV file\n",
    "csv_data = pd.read_csv('Data/20230912_PLIQ_IP.csv')\n",
    "\n",
    "# Prepare a list to store the output lines\n",
    "output_lines = []\n",
    "\n",
    "# Iterate over each row in the dataframe\n",
    "for index, row in csv_data.iterrows():\n",
    "    # Extract necessary information for calculations\n",
    "    S = row['Futuro']  # Current stock/future price\n",
    "    K = row['Serie']  # Strike price\n",
    "    T = row['Plazo a Vencimiento']  # Time to expiration in years\n",
    "    r = row['Tasa de Interes']  # Risk-free interest rate\n",
    "    sigma = row['Volatilidad']  # Volatility\n",
    "\n",
    "    # Calculate the Black-Scholes call price\n",
    "    bs_price = black_scholes_call_price(S, K, T, r, sigma)\n",
    "\n",
    "    # Calculate implied volatility\n",
    "    market_price = row['Pliq']  # Market price for implied volatility calculation\n",
    "    implied_vol = implied_volatility_bs(S, K, T, r, market_price)\n",
    "\n",
    "    # Format the output line to match the expected output\n",
    "    output_line = format_output_line(row['Emisora'], K, row['Vencimiento'], bs_price, implied_vol)\n",
    "\n",
    "    # Append the string to the output lines list\n",
    "    output_lines.append(output_line)\n",
    "\n",
    "# Write the output lines to the .txt file\n",
    "with open('Output_new.txt', 'w') as file:\n",
    "    file.writelines(output_lines)\n"
   ]
  }
 ],
 "metadata": {
  "kernelspec": {
   "display_name": "Python 3 (ipykernel)",
   "language": "python",
   "name": "python3"
  },
  "language_info": {
   "codemirror_mode": {
    "name": "ipython",
    "version": 3
   },
   "file_extension": ".py",
   "mimetype": "text/x-python",
   "name": "python",
   "nbconvert_exporter": "python",
   "pygments_lexer": "ipython3",
   "version": "3.11.2"
  }
 },
 "nbformat": 4,
 "nbformat_minor": 5
}
